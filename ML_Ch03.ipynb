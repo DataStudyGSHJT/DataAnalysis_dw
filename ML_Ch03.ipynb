{
  "nbformat": 4,
  "nbformat_minor": 0,
  "metadata": {
    "colab": {
      "provenance": [],
      "toc_visible": true
    },
    "kernelspec": {
      "name": "python3",
      "display_name": "Python 3"
    },
    "language_info": {
      "name": "python"
    }
  },
  "cells": [
    {
      "cell_type": "markdown",
      "source": [
        "#03-1 k-최근접 이웃 회귀"
      ],
      "metadata": {
        "id": "sJUqpzTcXw2B"
      }
    },
    {
      "cell_type": "markdown",
      "source": [
        "##데이터 준비"
      ],
      "metadata": {
        "id": "bsc3sCQpZztj"
      }
    },
    {
      "cell_type": "code",
      "execution_count": 2,
      "metadata": {
        "id": "GpdIPKrfXVzs"
      },
      "outputs": [],
      "source": [
        "import numpy as np\n",
        "#특성 데이터\n",
        "perch_length = np.array([8.4, 13.7, 15.0, 16.2, 17.4, 18.0, 18.7, 19.0, 19.6, 20.0, 21.0,\n",
        "       21.0, 21.0, 21.3, 22.0, 22.0, 22.0, 22.0, 22.0, 22.5, 22.5, 22.7,\n",
        "       23.0, 23.5, 24.0, 24.0, 24.6, 25.0, 25.6, 26.5, 27.3, 27.5, 27.5,\n",
        "       27.5, 28.0, 28.7, 30.0, 32.8, 34.5, 35.0, 36.5, 36.0, 37.0, 37.0,\n",
        "       39.0, 39.0, 39.0, 40.0, 40.0, 40.0, 40.0, 42.0, 43.0, 43.0, 43.5,\n",
        "       44.0])\n",
        "#타깃 데이터\n",
        "perch_weight = np.array([5.9, 32.0, 40.0, 51.5, 70.0, 100.0, 78.0, 80.0, 85.0, 85.0, 110.0,\n",
        "       115.0, 125.0, 130.0, 120.0, 120.0, 130.0, 135.0, 110.0, 130.0,\n",
        "       150.0, 145.0, 150.0, 170.0, 225.0, 145.0, 188.0, 180.0, 197.0,\n",
        "       218.0, 300.0, 260.0, 265.0, 250.0, 250.0, 300.0, 320.0, 514.0,\n",
        "       556.0, 840.0, 685.0, 700.0, 700.0, 690.0, 900.0, 650.0, 820.0,\n",
        "       850.0, 900.0, 1015.0, 820.0, 1100.0, 1000.0, 1100.0, 1000.0,\n",
        "       1000.0])"
      ]
    },
    {
      "cell_type": "markdown",
      "source": [
        "##데이터 확인하기"
      ],
      "metadata": {
        "id": "tYHXOhqjaCSy"
      }
    },
    {
      "cell_type": "code",
      "source": [
        "import matplotlib.pyplot as plt\n",
        "plt.scatter(perch_length, perch_length)\n",
        "plt.xlabel('length')\n",
        "plt.ylabel('weight')\n",
        "plt.show()"
      ],
      "metadata": {
        "colab": {
          "base_uri": "https://localhost:8080/",
          "height": 279
        },
        "id": "Hbt8eSzuZfnP",
        "outputId": "f43d3245-ee20-442e-b065-16de79de0911"
      },
      "execution_count": 4,
      "outputs": [
        {
          "output_type": "display_data",
          "data": {
            "text/plain": [
              "<Figure size 432x288 with 1 Axes>"
            ],
            "image/png": "[encoded data removed]"
          },
          "metadata": {
            "needs_background": "light"
          }
        }
      ]
    },
    {
      "cell_type": "code",
      "source": [
        "from sklearn.model_selection import train_test_split                                  \n",
        "train_input, test_input, train_target, test_target = train_test_split(perch_length, perch_weight, random_state = 42)"
      ],
      "metadata": {
        "id": "2bY5SxoaaLNt"
      },
      "execution_count": 5,
      "outputs": []
    },
    {
      "cell_type": "code",
      "source": [
        "test_array = np.array([1, 2, 3, 4])\n",
        "print(test_array.shape)"
      ],
      "metadata": {
        "colab": {
          "base_uri": "https://localhost:8080/"
        },
        "id": "iVX4mXdFa2kN",
        "outputId": "d77db392-1c58-489e-c926-a3e25fd2f9f9"
      },
      "execution_count": 6,
      "outputs": [
        {
          "output_type": "stream",
          "name": "stdout",
          "text": [
            "(4,)\n"
          ]
        }
      ]
    },
    {
      "cell_type": "code",
      "source": [
        "test_array = test_array.reshape(2, 2) #2행 2열로 재배열\n",
        "print(test_array.shape)"
      ],
      "metadata": {
        "colab": {
          "base_uri": "https://localhost:8080/"
        },
        "id": "SYVnkj1LcU_U",
        "outputId": "eef06612-4d49-46c8-dc0d-c05a49563b2b"
      },
      "execution_count": 11,
      "outputs": [
        {
          "output_type": "stream",
          "name": "stdout",
          "text": [
            "(2, 2)\n"
          ]
        }
      ]
    },
    {
      "cell_type": "code",
      "source": [
        "test_array"
      ],
      "metadata": {
        "colab": {
          "base_uri": "https://localhost:8080/"
        },
        "id": "7jfi-SMJccZN",
        "outputId": "d4b526d5-603e-46eb-dfc0-d8af4b5da01a"
      },
      "execution_count": 12,
      "outputs": [
        {
          "output_type": "execute_result",
          "data": {
            "text/plain": [
              "array([[1, 2],\n",
              "       [3, 4]])"
            ]
          },
          "metadata": {},
          "execution_count": 12
        }
      ]
    },
    {
      "cell_type": "code",
      "source": [
        "#2차원 배열로 변환하기\n",
        "train_input = train_input.reshape(-1, 1)\n",
        "test_input = test_input.reshape(-1, 1)\n",
        "print(train_input.shape, test_input.shape)"
      ],
      "metadata": {
        "colab": {
          "base_uri": "https://localhost:8080/"
        },
        "id": "KSvWUi96c-Mu",
        "outputId": "6998b9eb-2a9d-4761-b7cb-27c850f444ed"
      },
      "execution_count": 17,
      "outputs": [
        {
          "output_type": "stream",
          "name": "stdout",
          "text": [
            "(42, 1) (14, 1)\n"
          ]
        }
      ]
    },
    {
      "cell_type": "code",
      "source": [
        "from sklearn.neighbors import KNeighborsRegressor\n",
        "\n",
        "knr = KNeighborsRegressor()\n",
        "\n",
        "knr.fit(train_input, train_target)"
      ],
      "metadata": {
        "colab": {
          "base_uri": "https://localhost:8080/"
        },
        "id": "s79I-5qEeZAs",
        "outputId": "066ed027-109f-452c-8a4e-010e2474e139"
      },
      "execution_count": 18,
      "outputs": [
        {
          "output_type": "execute_result",
          "data": {
            "text/plain": [
              "KNeighborsRegressor()"
            ]
          },
          "metadata": {},
          "execution_count": 18
        }
      ]
    },
    {
      "cell_type": "code",
      "source": [
        "knr.score(test_input, test_target)\n",
        "#예측과 타깃이 거의 일치함 -> 결정계수가 1에 근접"
      ],
      "metadata": {
        "colab": {
          "base_uri": "https://localhost:8080/"
        },
        "id": "aATKaHW0fCt9",
        "outputId": "9e7fd11e-f2aa-4555-8a92-a242f11528ad"
      },
      "execution_count": 21,
      "outputs": [
        {
          "output_type": "execute_result",
          "data": {
            "text/plain": [
              "0.992809406101064"
            ]
          },
          "metadata": {},
          "execution_count": 21
        }
      ]
    },
    {
      "cell_type": "code",
      "source": [
        "#결정계수는 직감적이지 않음\n",
        "from sklearn.metrics import mean_absolute_error\n",
        "\n",
        "test_prediction = knr.predict(test_input)\n",
        "\n",
        "mae = mean_absolute_error(test_target, test_prediction)\n",
        "mae\n",
        "#타깃과 예측의 절댓값 오차의 평균"
      ],
      "metadata": {
        "colab": {
          "base_uri": "https://localhost:8080/"
        },
        "id": "LP1q-tiNfHLo",
        "outputId": "38b73e24-9001-400e-f510-8c1765e531c7"
      },
      "execution_count": 24,
      "outputs": [
        {
          "output_type": "execute_result",
          "data": {
            "text/plain": [
              "19.157142857142862"
            ]
          },
          "metadata": {},
          "execution_count": 24
        }
      ]
    },
    {
      "cell_type": "markdown",
      "source": [
        "##과대 적합 vs 과소 적합"
      ],
      "metadata": {
        "id": "YtOIlei9hDrB"
      }
    },
    {
      "cell_type": "code",
      "source": [
        "print(knr.score(train_input, train_target)) #과소적합"
      ],
      "metadata": {
        "colab": {
          "base_uri": "https://localhost:8080/"
        },
        "id": "mS3iS8ODgpbk",
        "outputId": "cad3d6b6-d9df-44b2-b19c-c3a2053d0234"
      },
      "execution_count": 26,
      "outputs": [
        {
          "output_type": "stream",
          "name": "stdout",
          "text": [
            "0.9698823289099254\n"
          ]
        }
      ]
    },
    {
      "cell_type": "markdown",
      "source": [
        "####-과대적합: 훈련세트에만 잘 맞는 모델로, 테스트세트보다 점수가 너무 높은 경우 \n",
        "####-과소적합: 테스트세트의 점수가 높거나 두 점수 모두 너무 낮은 경우(훈련세트에 적절히 훈련되지 않은 경우)"
      ],
      "metadata": {
        "id": "2IvbGtVphnY7"
      }
    },
    {
      "cell_type": "code",
      "source": [
        "knr.n_neighbors = 3\n",
        "\n",
        "knr.fit(train_input, train_target)\n",
        "knr.score(train_input, train_target)\n",
        "#이웃의 개수를 줄여 국지적으로 민감하게 만들어 모델을 복잡하게 만들어 훈련셋에 훈련을 잘시켜 과소적합 해소"
      ],
      "metadata": {
        "colab": {
          "base_uri": "https://localhost:8080/"
        },
        "id": "v1P5BYvDhVQ7",
        "outputId": "8c6156eb-6893-4008-bcb8-012b87d5d04d"
      },
      "execution_count": 28,
      "outputs": [
        {
          "output_type": "execute_result",
          "data": {
            "text/plain": [
              "0.9804899950518966"
            ]
          },
          "metadata": {},
          "execution_count": 28
        }
      ]
    },
    {
      "cell_type": "code",
      "source": [
        "knr.score(test_input, test_target)"
      ],
      "metadata": {
        "colab": {
          "base_uri": "https://localhost:8080/"
        },
        "id": "V008Ep1wjhKz",
        "outputId": "598d1d9b-748e-4e36-f28c-ec75956158c5"
      },
      "execution_count": 29,
      "outputs": [
        {
          "output_type": "execute_result",
          "data": {
            "text/plain": [
              "0.9746459963987609"
            ]
          },
          "metadata": {},
          "execution_count": 29
        }
      ]
    },
    {
      "cell_type": "code",
      "source": [
        "x = np.arange(5, 45).reshape(-1, 1)\n",
        "\n",
        "for n in [1, 5, 10]:\n",
        "   knr.n_neighbors = n\n",
        "   knr.fit(train_input, train_target)\n",
        "\n",
        "   prediction = knr.predict(x)\n",
        "\n",
        "   plt.scatter(train_input, train_target)\n",
        "   plt.plot(x, prediction)\n",
        "   plt.title('n_neighbors = {}'.format(n))\n",
        "   plt.show()"
      ],
      "metadata": {
        "colab": {
          "base_uri": "https://localhost:8080/",
          "height": 809
        },
        "id": "9rb6sAbzj-gq",
        "outputId": "8c4397da-d6c3-4312-c9f2-9d8477f62c6c"
      },
      "execution_count": 31,
      "outputs": [
        {
          "output_type": "display_data",
          "data": {
            "text/plain": [
              "<Figure size 432x288 with 1 Axes>"
            ],
            "image/png": "[encoded data removed]"
          },
          "metadata": {
            "needs_background": "light"
          }
        },
        {
          "output_type": "display_data",
          "data": {
            "text/plain": [
              "<Figure size 432x288 with 1 Axes>"
            ],
            "image/png": "[encoded data removed]"
          },
          "metadata": {
            "needs_background": "light"
          }
        },
        {
          "output_type": "display_data",
          "data": {
            "text/plain": [
              "<Figure size 432x288 with 1 Axes>"
            ],
            "image/png": "[encoded data removed]"
          },
          "metadata": {
            "needs_background": "light"
          }
        }
      ]
    },
    {
      "cell_type": "markdown",
      "source": [
        "#03-2 선형회귀"
      ],
      "metadata": {
        "id": "Bi8jJP9Po90c"
      }
    },
    {
      "cell_type": "markdown",
      "source": [
        "##k-최근접 이웃의 한계"
      ],
      "metadata": {
        "id": "_xLYdrQHpkxx"
      }
    },
    {
      "cell_type": "code",
      "source": [
        "import numpy as np\n",
        "\n",
        "perch_length = np.array([8.4, 13.7, 15.0, 16.2, 17.4, 18.0, 18.7, 19.0, 19.6, 20.0, 21.0,\n",
        "       21.0, 21.0, 21.3, 22.0, 22.0, 22.0, 22.0, 22.0, 22.5, 22.5, 22.7,\n",
        "       23.0, 23.5, 24.0, 24.0, 24.6, 25.0, 25.6, 26.5, 27.3, 27.5, 27.5,\n",
        "       27.5, 28.0, 28.7, 30.0, 32.8, 34.5, 35.0, 36.5, 36.0, 37.0, 37.0,\n",
        "       39.0, 39.0, 39.0, 40.0, 40.0, 40.0, 40.0, 42.0, 43.0, 43.0, 43.5,\n",
        "       44.0])\n",
        "perch_weight = np.array([5.9, 32.0, 40.0, 51.5, 70.0, 100.0, 78.0, 80.0, 85.0, 85.0, 110.0,\n",
        "       115.0, 125.0, 130.0, 120.0, 120.0, 130.0, 135.0, 110.0, 130.0,\n",
        "       150.0, 145.0, 150.0, 170.0, 225.0, 145.0, 188.0, 180.0, 197.0,\n",
        "       218.0, 300.0, 260.0, 265.0, 250.0, 250.0, 300.0, 320.0, 514.0,\n",
        "       556.0, 840.0, 685.0, 700.0, 700.0, 690.0, 900.0, 650.0, 820.0,\n",
        "       850.0, 900.0, 1015.0, 820.0, 1100.0, 1000.0, 1100.0, 1000.0,\n",
        "       1000.0])"
      ],
      "metadata": {
        "id": "XgnuDcZmn8qr"
      },
      "execution_count": 32,
      "outputs": []
    },
    {
      "cell_type": "code",
      "source": [
        "from sklearn.model_selection import train_test_split\n",
        "\n",
        "train_input, test_input, train_target, test_target = train_test_split(perch_length, perch_weight, random_state = 42)"
      ],
      "metadata": {
        "id": "ZicTJylRp4aC"
      },
      "execution_count": 34,
      "outputs": []
    },
    {
      "cell_type": "code",
      "source": [
        "train_input = train_input.reshape(-1, 1)\n",
        "test_input = test_input.reshape(-1, 1)"
      ],
      "metadata": {
        "id": "I4XM5GwEqJyJ"
      },
      "execution_count": 35,
      "outputs": []
    },
    {
      "cell_type": "code",
      "source": [
        "from sklearn.neighbors import KNeighborsRegressor\n",
        "knr = KNeighborsRegressor(n_neighbors = 3)\n",
        "knr.fit(train_input, train_target)"
      ],
      "metadata": {
        "colab": {
          "base_uri": "https://localhost:8080/"
        },
        "id": "dVs_4rB0qVmJ",
        "outputId": "fc681415-2496-4608-abaa-645630934c2d"
      },
      "execution_count": 36,
      "outputs": [
        {
          "output_type": "execute_result",
          "data": {
            "text/plain": [
              "KNeighborsRegressor(n_neighbors=3)"
            ]
          },
          "metadata": {},
          "execution_count": 36
        }
      ]
    },
    {
      "cell_type": "code",
      "source": [
        "print(knr.predict([[50]]))"
      ],
      "metadata": {
        "colab": {
          "base_uri": "https://localhost:8080/"
        },
        "id": "qGGKuE-OqvFR",
        "outputId": "147de78e-6352-4249-d3c6-26449e79b74c"
      },
      "execution_count": 38,
      "outputs": [
        {
          "output_type": "stream",
          "name": "stdout",
          "text": [
            "[1033.33333333]\n"
          ]
        }
      ]
    },
    {
      "cell_type": "code",
      "source": [
        "import matplotlib.pyplot as plt\n",
        "\n",
        "distances, indexes = knr.kneighbors([[50]])\n",
        "\n",
        "plt.scatter(train_input, train_target)\n",
        "plt.scatter(train_input[indexes], train_target[indexes], marker = 'D')\n",
        "plt.scatter(50, 1033, marker = '^')\n",
        "plt.xlabel('length')\n",
        "plt.ylabel('weight')\n",
        "plt.show()\n"
      ],
      "metadata": {
        "colab": {
          "base_uri": "https://localhost:8080/",
          "height": 279
        },
        "id": "5wOzOtUdqzYR",
        "outputId": "5907c4ce-f90f-44fb-cfbe-dd985b275746"
      },
      "execution_count": 39,
      "outputs": [
        {
          "output_type": "display_data",
          "data": {
            "text/plain": [
              "<Figure size 432x288 with 1 Axes>"
            ],
            "image/png": "[encoded data removed]"
          },
          "metadata": {
            "needs_background": "light"
          }
        }
      ]
    },
    {
      "cell_type": "code",
      "source": [
        "print(np.mean(train_target[indexes]))"
      ],
      "metadata": {
        "colab": {
          "base_uri": "https://localhost:8080/"
        },
        "id": "E-oXM01psH0L",
        "outputId": "b478e4f3-63f2-49f2-c4f9-1d28af8ba571"
      },
      "execution_count": 40,
      "outputs": [
        {
          "output_type": "stream",
          "name": "stdout",
          "text": [
            "1033.3333333333333\n"
          ]
        }
      ]
    },
    {
      "cell_type": "code",
      "source": [
        "print(knr.predict([[100]]))"
      ],
      "metadata": {
        "colab": {
          "base_uri": "https://localhost:8080/"
        },
        "id": "mkM9RvtVsZkx",
        "outputId": "771eb30e-d212-45cc-c54d-be8ca658b599"
      },
      "execution_count": 44,
      "outputs": [
        {
          "output_type": "stream",
          "name": "stdout",
          "text": [
            "[1033.33333333]\n"
          ]
        }
      ]
    },
    {
      "cell_type": "code",
      "source": [
        "distances, indexes = knr.kneighbors([[100]])\n",
        "\n",
        "plt.scatter(train_input, train_target)\n",
        "plt.scatter(train_input[indexes], train_target[indexes], marker = 'D')\n",
        "plt.scatter(100, 1033, marker = '^')\n",
        "plt.xlabel('length')\n",
        "plt.ylabel('weight')\n",
        "plt.show()\n",
        "#k-최근접 이웃 모델의 한계"
      ],
      "metadata": {
        "colab": {
          "base_uri": "https://localhost:8080/",
          "height": 279
        },
        "id": "iXZGA4wosjHZ",
        "outputId": "0c2db2fc-93c2-4cc0-d158-925b34e76269"
      },
      "execution_count": 47,
      "outputs": [
        {
          "output_type": "display_data",
          "data": {
            "text/plain": [
              "<Figure size 432x288 with 1 Axes>"
            ],
            "image/png": "[encoded data removed]"
          },
          "metadata": {
            "needs_background": "light"
          }
        }
      ]
    },
    {
      "cell_type": "markdown",
      "source": [
        "##선형회귀"
      ],
      "metadata": {
        "id": "ym_0wmIWxgQM"
      }
    },
    {
      "cell_type": "code",
      "source": [
        "from sklearn.linear_model import LinearRegression\n",
        "lr = LinearRegression()\n",
        "\n",
        "lr.fit(train_input, train_target)\n",
        "\n",
        "print(lr.predict([[50]]))"
      ],
      "metadata": {
        "colab": {
          "base_uri": "https://localhost:8080/"
        },
        "id": "MY2IAkVOsyVJ",
        "outputId": "603ef99e-ca03-4808-d85b-2e8ec8dfd2ca"
      },
      "execution_count": 48,
      "outputs": [
        {
          "output_type": "stream",
          "name": "stdout",
          "text": [
            "[1241.83860323]\n"
          ]
        }
      ]
    },
    {
      "cell_type": "code",
      "source": [
        "print(lr.coef_, lr.intercept_) # 선형회귀 모델의 기울기 파라미터와 절편 파라미터"
      ],
      "metadata": {
        "colab": {
          "base_uri": "https://localhost:8080/"
        },
        "id": "WbhCuJWWullY",
        "outputId": "2a8afa27-0f7a-489c-83fe-b210a9e4952e"
      },
      "execution_count": 50,
      "outputs": [
        {
          "output_type": "stream",
          "name": "stdout",
          "text": [
            "[39.01714496] -709.0186449535477\n"
          ]
        }
      ]
    },
    {
      "cell_type": "code",
      "source": [
        "plt.scatter(train_input, train_target)\n",
        "plt.plot([15, 50], [15*lr.coef_+lr.intercept_, 50*lr.coef_+lr.intercept_])\n",
        "plt.scatter(50, 1241.8, marker = '^')\n",
        "plt.xlabel('length')\n",
        "plt.ylabel('weight')\n",
        "plt.show()"
      ],
      "metadata": {
        "colab": {
          "base_uri": "https://localhost:8080/",
          "height": 279
        },
        "id": "gXLPnF3Uu0PY",
        "outputId": "af528d9d-8293-4b3e-bef1-56ba37d2024a"
      },
      "execution_count": 52,
      "outputs": [
        {
          "output_type": "display_data",
          "data": {
            "text/plain": [
              "<Figure size 432x288 with 1 Axes>"
            ],
            "image/png": "[encoded data removed]"
          },
          "metadata": {
            "needs_background": "light"
          }
        }
      ]
    },
    {
      "cell_type": "code",
      "source": [
        "print(lr.score(train_input, train_target))\n",
        "print(lr.score(test_input, test_target)) #과대적합보단 전체적인 과소 적합 + 왼쪽 아래의 오점들"
      ],
      "metadata": {
        "colab": {
          "base_uri": "https://localhost:8080/"
        },
        "id": "osicjdAovB5X",
        "outputId": "1e862f22-66a3-42c8-e435-e6e5debf88fc"
      },
      "execution_count": 55,
      "outputs": [
        {
          "output_type": "stream",
          "name": "stdout",
          "text": [
            "0.939846333997604\n",
            "0.8247503123313558\n"
          ]
        }
      ]
    },
    {
      "cell_type": "markdown",
      "source": [
        "##다항회귀"
      ],
      "metadata": {
        "id": "vZ14TkerxZg4"
      }
    },
    {
      "cell_type": "markdown",
      "source": [
        "###최적의 곡선 찾기 :   a x 길이^2 + b x 길이 + c"
      ],
      "metadata": {
        "id": "6cgGeUQY0S_S"
      }
    },
    {
      "cell_type": "code",
      "source": [
        "#길의 제곱항 합차기\n",
        "train_poly = np.column_stack((train_input**2, train_input))\n",
        "test_poly = np.column_stack((test_input**2, test_input))"
      ],
      "metadata": {
        "id": "NQ0Ke33SxM-o"
      },
      "execution_count": 63,
      "outputs": []
    },
    {
      "cell_type": "code",
      "source": [
        "print(train_poly.shape, test_poly.shape)"
      ],
      "metadata": {
        "colab": {
          "base_uri": "https://localhost:8080/"
        },
        "id": "TludiDSwzla_",
        "outputId": "7c66c6db-730e-4df4-fc81-8779c2d6fc68"
      },
      "execution_count": 64,
      "outputs": [
        {
          "output_type": "stream",
          "name": "stdout",
          "text": [
            "(42, 2) (14, 2)\n"
          ]
        }
      ]
    },
    {
      "cell_type": "code",
      "source": [
        "lr = LinearRegression()\n",
        "lr.fit(train_poly, train_target)\n",
        "lr.predict([[50**2, 50]])  #직선회귀 보다 정확도가 올라감"
      ],
      "metadata": {
        "colab": {
          "base_uri": "https://localhost:8080/"
        },
        "id": "MmYyO-z40QBX",
        "outputId": "19dbaf9a-9b52-47c8-f9e9-325e220b16c2"
      },
      "execution_count": 68,
      "outputs": [
        {
          "output_type": "execute_result",
          "data": {
            "text/plain": [
              "array([1573.98423528])"
            ]
          },
          "metadata": {},
          "execution_count": 68
        }
      ]
    },
    {
      "cell_type": "code",
      "source": [
        "print(lr.coef_, lr.intercept_) #다항회귀 모델이 학습한 a, b, c 값"
      ],
      "metadata": {
        "colab": {
          "base_uri": "https://localhost:8080/"
        },
        "id": "BM327HVf1NjW",
        "outputId": "35165bb6-6b4c-41a4-c98c-cc2eab5019b9"
      },
      "execution_count": 71,
      "outputs": [
        {
          "output_type": "stream",
          "name": "stdout",
          "text": [
            "[  1.01433211 -21.55792498] 116.0502107827827\n"
          ]
        }
      ]
    },
    {
      "cell_type": "code",
      "source": [
        "point = np.arange(15, 50)\n",
        "\n",
        "plt.scatter(train_input, train_target)\n",
        "\n",
        "plt.plot(point, 1.01*point**2 - 21.6*point + 116.05)\n",
        "plt.scatter(50, 1574, marker='^')\n",
        "plt.xlabel('length')\n",
        "plt.ylabel('weight')\n",
        "plt.show()"
      ],
      "metadata": {
        "colab": {
          "base_uri": "https://localhost:8080/",
          "height": 279
        },
        "id": "4fYDxg-y1bB2",
        "outputId": "0dffbefc-715e-435c-930d-2bba9951aebf"
      },
      "execution_count": 72,
      "outputs": [
        {
          "output_type": "display_data",
          "data": {
            "text/plain": [
              "<Figure size 432x288 with 1 Axes>"
            ],
            "image/png": "[encoded data removed]"
          },
          "metadata": {
            "needs_background": "light"
          }
        }
      ]
    },
    {
      "cell_type": "code",
      "source": [
        "print(lr.score(train_poly, train_target))\n",
        "print(lr.score(test_poly, test_target))\n",
        "#약간의 과소적합 -> 더 복잡한 모델 필요"
      ],
      "metadata": {
        "colab": {
          "base_uri": "https://localhost:8080/"
        },
        "id": "0k4HU3O82l9f",
        "outputId": "a906afd4-9771-4bb7-c2a3-e7026429b2d5"
      },
      "execution_count": 74,
      "outputs": [
        {
          "output_type": "stream",
          "name": "stdout",
          "text": [
            "0.9706807451768623\n",
            "0.9775935108325122\n"
          ]
        }
      ]
    },
    {
      "cell_type": "markdown",
      "source": [
        "#03-3 특성 공학과 규제"
      ],
      "metadata": {
        "id": "s4VLJwkBEHqv"
      }
    },
    {
      "cell_type": "markdown",
      "source": [
        "##다중회귀"
      ],
      "metadata": {
        "id": "JuE7-HgmEOsv"
      }
    },
    {
      "cell_type": "markdown",
      "source": [
        "####-여러 개의 특성을 사용한 선형회귀\n",
        "####-특성2개 -> 평면을 학습 ,  타깃 = a x 특성1 + b x 특성2 + 절편\n",
        "####-특성공학: 기존의 특성을 사용해 새로운 특성을 뽑아내는 작업\n"
      ],
      "metadata": {
        "id": "AfJ2PKvvETZT"
      }
    },
    {
      "cell_type": "code",
      "source": [
        "import pandas as pd\n",
        "df = pd.read_csv('https://bit.ly/perch_csv_data')\n",
        "perch_full = df.to_numpy()\n",
        "perch_full"
      ],
      "metadata": {
        "colab": {
          "base_uri": "https://localhost:8080/"
        },
        "id": "n3pBN-9n27Em",
        "outputId": "347444df-9582-490c-a684-7cc3fcf4a193"
      },
      "execution_count": 75,
      "outputs": [
        {
          "output_type": "execute_result",
          "data": {
            "text/plain": [
              "array([[ 8.4 ,  2.11,  1.41],\n",
              "       [13.7 ,  3.53,  2.  ],\n",
              "       [15.  ,  3.82,  2.43],\n",
              "       [16.2 ,  4.59,  2.63],\n",
              "       [17.4 ,  4.59,  2.94],\n",
              "       [18.  ,  5.22,  3.32],\n",
              "       [18.7 ,  5.2 ,  3.12],\n",
              "       [19.  ,  5.64,  3.05],\n",
              "       [19.6 ,  5.14,  3.04],\n",
              "       [20.  ,  5.08,  2.77],\n",
              "       [21.  ,  5.69,  3.56],\n",
              "       [21.  ,  5.92,  3.31],\n",
              "       [21.  ,  5.69,  3.67],\n",
              "       [21.3 ,  6.38,  3.53],\n",
              "       [22.  ,  6.11,  3.41],\n",
              "       [22.  ,  5.64,  3.52],\n",
              "       [22.  ,  6.11,  3.52],\n",
              "       [22.  ,  5.88,  3.52],\n",
              "       [22.  ,  5.52,  4.  ],\n",
              "       [22.5 ,  5.86,  3.62],\n",
              "       [22.5 ,  6.79,  3.62],\n",
              "       [22.7 ,  5.95,  3.63],\n",
              "       [23.  ,  5.22,  3.63],\n",
              "       [23.5 ,  6.28,  3.72],\n",
              "       [24.  ,  7.29,  3.72],\n",
              "       [24.  ,  6.38,  3.82],\n",
              "       [24.6 ,  6.73,  4.17],\n",
              "       [25.  ,  6.44,  3.68],\n",
              "       [25.6 ,  6.56,  4.24],\n",
              "       [26.5 ,  7.17,  4.14],\n",
              "       [27.3 ,  8.32,  5.14],\n",
              "       [27.5 ,  7.17,  4.34],\n",
              "       [27.5 ,  7.05,  4.34],\n",
              "       [27.5 ,  7.28,  4.57],\n",
              "       [28.  ,  7.82,  4.2 ],\n",
              "       [28.7 ,  7.59,  4.64],\n",
              "       [30.  ,  7.62,  4.77],\n",
              "       [32.8 , 10.03,  6.02],\n",
              "       [34.5 , 10.26,  6.39],\n",
              "       [35.  , 11.49,  7.8 ],\n",
              "       [36.5 , 10.88,  6.86],\n",
              "       [36.  , 10.61,  6.74],\n",
              "       [37.  , 10.84,  6.26],\n",
              "       [37.  , 10.57,  6.37],\n",
              "       [39.  , 11.14,  7.49],\n",
              "       [39.  , 11.14,  6.  ],\n",
              "       [39.  , 12.43,  7.35],\n",
              "       [40.  , 11.93,  7.11],\n",
              "       [40.  , 11.73,  7.22],\n",
              "       [40.  , 12.38,  7.46],\n",
              "       [40.  , 11.14,  6.63],\n",
              "       [42.  , 12.8 ,  6.87],\n",
              "       [43.  , 11.93,  7.28],\n",
              "       [43.  , 12.51,  7.42],\n",
              "       [43.5 , 12.6 ,  8.14],\n",
              "       [44.  , 12.49,  7.6 ]])"
            ]
          },
          "metadata": {},
          "execution_count": 75
        }
      ]
    },
    {
      "cell_type": "code",
      "source": [
        "import pandas as pd\n",
        "\n",
        "perch_weight = np.array([5.9, 32.0, 40.0, 51.5, 70.0, 100.0, 78.0, 80.0, 85.0, 85.0, 110.0,\n",
        "       115.0, 125.0, 130.0, 120.0, 120.0, 130.0, 135.0, 110.0, 130.0,\n",
        "       150.0, 145.0, 150.0, 170.0, 225.0, 145.0, 188.0, 180.0, 197.0,\n",
        "       218.0, 300.0, 260.0, 265.0, 250.0, 250.0, 300.0, 320.0, 514.0,\n",
        "       556.0, 840.0, 685.0, 700.0, 700.0, 690.0, 900.0, 650.0, 820.0,\n",
        "       850.0, 900.0, 1015.0, 820.0, 1100.0, 1000.0, 1100.0, 1000.0,\n",
        "       1000.0])"
      ],
      "metadata": {
        "id": "o_2WzMLWFJ_W"
      },
      "execution_count": 76,
      "outputs": []
    },
    {
      "cell_type": "code",
      "source": [
        "from sklearn.model_selection import train_test_split\n",
        "train_input, test_input, train_target, test_target = train_test_split(perch_full, perch_weight, random_state = 42)"
      ],
      "metadata": {
        "id": "347FRmXOFS5c"
      },
      "execution_count": 77,
      "outputs": []
    },
    {
      "cell_type": "markdown",
      "source": [
        "##사이킷런 변환기"
      ],
      "metadata": {
        "id": "kooev7dmIQ_M"
      }
    },
    {
      "cell_type": "code",
      "source": [
        "from sklearn.preprocessing import PolynomialFeatures\n",
        "poly = PolynomialFeatures(include_bias = False)\n",
        "poly.fit(train_input)\n",
        "train_poly = poly.transform(train_input)\n",
        "print(train_poly.shape)\n",
        "#변환기(전처리기)로 다중의 특성 만들기"
      ],
      "metadata": {
        "colab": {
          "base_uri": "https://localhost:8080/"
        },
        "id": "lB83KIKNFtra",
        "outputId": "8a38de30-1678-435c-b567-00cccb90771e"
      },
      "execution_count": 79,
      "outputs": [
        {
          "output_type": "stream",
          "name": "stdout",
          "text": [
            "(42, 9)\n"
          ]
        }
      ]
    },
    {
      "cell_type": "code",
      "source": [
        "poly.get_feature_names_out()"
      ],
      "metadata": {
        "colab": {
          "base_uri": "https://localhost:8080/"
        },
        "id": "bACWhfLhIrMC",
        "outputId": "c65762c6-2f82-45ec-fe55-c5529a67f72c"
      },
      "execution_count": 80,
      "outputs": [
        {
          "output_type": "execute_result",
          "data": {
            "text/plain": [
              "array(['x0', 'x1', 'x2', 'x0^2', 'x0 x1', 'x0 x2', 'x1^2', 'x1 x2',\n",
              "       'x2^2'], dtype=object)"
            ]
          },
          "metadata": {},
          "execution_count": 80
        }
      ]
    },
    {
      "cell_type": "code",
      "source": [
        "#훈련세트 기준으로 테스트 셋 변환하기\n",
        "test_poly = poly.transform(test_input)"
      ],
      "metadata": {
        "id": "uIhG-EvmI7tB"
      },
      "execution_count": 81,
      "outputs": []
    },
    {
      "cell_type": "code",
      "source": [
        "from sklearn.linear_model import LinearRegression\n",
        "lr = LinearRegression()\n",
        "lr.fit(train_poly, train_target)\n",
        "print(lr.score(train_poly, train_target))"
      ],
      "metadata": {
        "colab": {
          "base_uri": "https://localhost:8080/"
        },
        "id": "FdrGDUULJepi",
        "outputId": "4cf0a233-b852-4286-94c6-aa91c2e708c9"
      },
      "execution_count": 84,
      "outputs": [
        {
          "output_type": "stream",
          "name": "stdout",
          "text": [
            "0.9903183436982124\n"
          ]
        }
      ]
    },
    {
      "cell_type": "code",
      "source": [
        "print(lr.score(test_poly, test_target))\n",
        "#많은 특성을 사용하니 다소적합이 해결되고 높은 점수가 반환"
      ],
      "metadata": {
        "colab": {
          "base_uri": "https://localhost:8080/"
        },
        "id": "KfUdqKV0KA77",
        "outputId": "966fc8fe-b427-4216-c6dd-0c530cb03e29"
      },
      "execution_count": 86,
      "outputs": [
        {
          "output_type": "stream",
          "name": "stdout",
          "text": [
            "0.9714559911594134\n"
          ]
        }
      ]
    },
    {
      "cell_type": "code",
      "source": [
        "poly = PolynomialFeatures(degree = 5, include_bias = False)\n",
        "poly.fit(train_input)\n",
        "train_poly = poly.transform(train_input)\n",
        "test_poly = poly.transform(test_input)\n",
        "print(train_poly.shape)\n",
        "#5차항 -> 55개의 특성"
      ],
      "metadata": {
        "colab": {
          "base_uri": "https://localhost:8080/"
        },
        "id": "172FNBwOKRnU",
        "outputId": "75676dfe-1d53-4d1a-fdc3-f43ab89e5dd2"
      },
      "execution_count": 88,
      "outputs": [
        {
          "output_type": "stream",
          "name": "stdout",
          "text": [
            "(42, 55)\n"
          ]
        }
      ]
    },
    {
      "cell_type": "code",
      "source": [
        "lr.fit(train_poly, train_target)\n",
        "lr.score(train_poly, train_target)"
      ],
      "metadata": {
        "colab": {
          "base_uri": "https://localhost:8080/"
        },
        "id": "NNTh-4o3KuUR",
        "outputId": "0aeb6804-67bd-4e35-d246-8c43fb33bd32"
      },
      "execution_count": 89,
      "outputs": [
        {
          "output_type": "execute_result",
          "data": {
            "text/plain": [
              "0.9999999999991097"
            ]
          },
          "metadata": {},
          "execution_count": 89
        }
      ]
    },
    {
      "cell_type": "code",
      "source": [
        "lr.score(test_poly, test_target)\n",
        "# 엄청난 과대 적합, 샘플개수42< 특성 55개"
      ],
      "metadata": {
        "colab": {
          "base_uri": "https://localhost:8080/"
        },
        "id": "gw9NV7wBK7e5",
        "outputId": "784390dc-e45d-49c7-8ed9-f89703af71b9"
      },
      "execution_count": 92,
      "outputs": [
        {
          "output_type": "execute_result",
          "data": {
            "text/plain": [
              "-144.40579242684848"
            ]
          },
          "metadata": {},
          "execution_count": 92
        }
      ]
    },
    {
      "cell_type": "markdown",
      "source": [
        "##규제"
      ],
      "metadata": {
        "id": "boCYkuQ-LeRR"
      }
    },
    {
      "cell_type": "markdown",
      "source": [
        "####-규제: 과대적합 방지(훈련세트 과도 학습 방지), 각 모델의 기준으로 규제를 적용\n",
        "####-정규화: 규제를 가한 모델을 학습하기 전에 각 특성의 스케일을 일정하게 맞추어 주는 정규화 과정을 거치는 모델 StandardScaler 클래스 사용(특성을 더해주는 PolynomialFeatures 클래스와 마찬가지로 변환기의 일종임)\n",
        "\n",
        "\n",
        "\n"
      ],
      "metadata": {
        "id": "ubxx-aktLkC7"
      }
    },
    {
      "cell_type": "code",
      "source": [
        "from sklearn.preprocessing import StandardScaler\n",
        "ss = StandardScaler()\n",
        "ss.fit(train_poly) #훈련세트로 변환기 모델 학습할것\n",
        "train_scaled = ss.transform(train_poly)  #훈련세트 정규화\n",
        "test_scaled = ss.transform(test_poly)  #테스트세트 정규화"
      ],
      "metadata": {
        "id": "UgTuVJXSK-Lr"
      },
      "execution_count": 93,
      "outputs": []
    },
    {
      "cell_type": "markdown",
      "source": [
        "##릿지 회귀"
      ],
      "metadata": {
        "id": "jGuLo8RvVnKu"
      }
    },
    {
      "cell_type": "code",
      "source": [
        "from sklearn.linear_model import Ridge\n",
        "ridge = Ridge()\n",
        "ridge.fit(train_scaled, train_target)\n",
        "ridge.score(train_scaled, train_target)"
      ],
      "metadata": {
        "colab": {
          "base_uri": "https://localhost:8080/"
        },
        "id": "klMrPtc9O0RE",
        "outputId": "e15870f1-88b1-434d-d1a8-3426b30df419"
      },
      "execution_count": 94,
      "outputs": [
        {
          "output_type": "execute_result",
          "data": {
            "text/plain": [
              "0.9896101671037343"
            ]
          },
          "metadata": {},
          "execution_count": 94
        }
      ]
    },
    {
      "cell_type": "code",
      "source": [
        "ridge.score(test_scaled, test_target) #규제로 하여금 테스트 세트 복구 완료"
      ],
      "metadata": {
        "colab": {
          "base_uri": "https://localhost:8080/"
        },
        "id": "pk1VCIusPYZC",
        "outputId": "58dc5a49-4c11-492d-8bf3-64dbfe1bc176"
      },
      "execution_count": 96,
      "outputs": [
        {
          "output_type": "execute_result",
          "data": {
            "text/plain": [
              "0.9790693977615391"
            ]
          },
          "metadata": {},
          "execution_count": 96
        }
      ]
    },
    {
      "cell_type": "markdown",
      "source": [
        "####-적절한 alpha값 (규제의 강도) 찾기: 훈련세트와 테스트셋의 점수(R^2)가 가장 가까운 값"
      ],
      "metadata": {
        "id": "aoHg1pgaS6wF"
      }
    },
    {
      "cell_type": "code",
      "source": [
        "import matplotlib.pyplot as plt\n",
        "train_score = []\n",
        "test_score = []\n",
        "\n",
        "alpha_list = [0.001, 0.01, 0.1, 1, 10, 100]\n",
        "for alpha in alpha_list:\n",
        "  ridge = Ridge(alpha = alpha)\n",
        "  ridge.fit(train_scaled, train_target)\n",
        "  train_score.append(ridge.score(train_scaled, train_target))\n",
        "  test_score.append(ridge.score(test_scaled, test_target))"
      ],
      "metadata": {
        "id": "X18AFnS4PcTC"
      },
      "execution_count": 97,
      "outputs": []
    },
    {
      "cell_type": "code",
      "source": [
        "plt.plot(np.log10(alpha_list), train_score)\n",
        "plt.plot(np.log10(alpha_list), test_score)\n",
        "plt.xlabel('alpha')\n",
        "plt.ylabel('R^2')\n",
        "plt.show()\n",
        "#적절한 alpha값은 -1"
      ],
      "metadata": {
        "colab": {
          "base_uri": "https://localhost:8080/",
          "height": 279
        },
        "id": "9eNftUSVURyI",
        "outputId": "ff4029d6-cbc2-46b3-8de6-0a9cea2d13e0"
      },
      "execution_count": 99,
      "outputs": [
        {
          "output_type": "display_data",
          "data": {
            "text/plain": [
              "<Figure size 432x288 with 1 Axes>"
            ],
            "image/png": "[encoded data removed]"
          },
          "metadata": {
            "needs_background": "light"
          }
        }
      ]
    },
    {
      "cell_type": "code",
      "source": [
        "ridge = Ridge(alpha = 0.1)\n",
        "ridge.fit(train_scaled, train_target)\n",
        "print(ridge.score(train_scaled, train_target))\n",
        "print(ridge.score(test_scaled, test_target))\n"
      ],
      "metadata": {
        "colab": {
          "base_uri": "https://localhost:8080/"
        },
        "id": "NAJRwHiiUj--",
        "outputId": "026b67aa-2e0e-48d5-9420-c4456c708c8f"
      },
      "execution_count": 100,
      "outputs": [
        {
          "output_type": "stream",
          "name": "stdout",
          "text": [
            "0.9903815817570365\n",
            "0.9827976465386884\n"
          ]
        }
      ]
    },
    {
      "cell_type": "markdown",
      "source": [
        "##라쏘 회귀"
      ],
      "metadata": {
        "id": "j72CuY0EVfzK"
      }
    },
    {
      "cell_type": "code",
      "source": [
        "from sklearn.linear_model import Lasso\n",
        "lasso = Lasso()\n",
        "lasso.fit(train_scaled, train_target)\n",
        "lasso.score(train_scaled, train_target)"
      ],
      "metadata": {
        "colab": {
          "base_uri": "https://localhost:8080/"
        },
        "id": "HTzep22jVdly",
        "outputId": "3c3f2781-69f1-41bb-c4fe-43ae3c505ad8"
      },
      "execution_count": 102,
      "outputs": [
        {
          "output_type": "execute_result",
          "data": {
            "text/plain": [
              "0.989789897208096"
            ]
          },
          "metadata": {},
          "execution_count": 102
        }
      ]
    },
    {
      "cell_type": "code",
      "source": [
        "lasso.score(test_scaled, test_target)"
      ],
      "metadata": {
        "colab": {
          "base_uri": "https://localhost:8080/"
        },
        "id": "4ZjfQXtiWGnW",
        "outputId": "9d7bb684-c3ef-4923-a3bb-4c0320cb5547"
      },
      "execution_count": 103,
      "outputs": [
        {
          "output_type": "execute_result",
          "data": {
            "text/plain": [
              "0.9800593698421883"
            ]
          },
          "metadata": {},
          "execution_count": 103
        }
      ]
    },
    {
      "cell_type": "code",
      "source": [
        "train_score = []\n",
        "test_score = []\n",
        "alpha_list = [0.001, 0.01, 0.1, 1, 10, 100]\n",
        "for alpha in alpha_list:\n",
        "  lasso = Lasso(alpha = alpha, max_iter = 10000)\n",
        "  lasso.fit(train_scaled, train_target)\n",
        "  train_score.append(lasso.score(train_scaled, train_target))\n",
        "  test_score.append(lasso.score(test_scaled, test_target))"
      ],
      "metadata": {
        "colab": {
          "base_uri": "https://localhost:8080/"
        },
        "id": "ajdkWteZWhhA",
        "outputId": "d483d8bd-d3f5-40f4-ada0-5197559c4322"
      },
      "execution_count": 104,
      "outputs": [
        {
          "output_type": "stream",
          "name": "stderr",
          "text": [
            "/usr/local/lib/python3.8/dist-packages/sklearn/linear_model/_coordinate_descent.py:647: ConvergenceWarning: Objective did not converge. You might want to increase the number of iterations, check the scale of the features or consider increasing regularisation. Duality gap: 1.878e+04, tolerance: 5.183e+02\n",
            "  model = cd_fast.enet_coordinate_descent(\n",
            "/usr/local/lib/python3.8/dist-packages/sklearn/linear_model/_coordinate_descent.py:647: ConvergenceWarning: Objective did not converge. You might want to increase the number of iterations, check the scale of the features or consider increasing regularisation. Duality gap: 1.297e+04, tolerance: 5.183e+02\n",
            "  model = cd_fast.enet_coordinate_descent(\n"
          ]
        }
      ]
    },
    {
      "cell_type": "code",
      "source": [
        "plt.plot(np.log10(alpha_list), train_score)\n",
        "plt.plot(np.log10(alpha_list), test_score)\n",
        "plt.xlabel('alpha')\n",
        "plt.ylabel('R^2')\n",
        "plt.show()"
      ],
      "metadata": {
        "colab": {
          "base_uri": "https://localhost:8080/",
          "height": 279
        },
        "id": "11Mi4CAhXVh3",
        "outputId": "9766a8ad-ee1a-4b71-a4b7-778b7fe903bc"
      },
      "execution_count": 107,
      "outputs": [
        {
          "output_type": "display_data",
          "data": {
            "text/plain": [
              "<Figure size 432x288 with 1 Axes>"
            ],
            "image/png": "[encoded data removed]"
          },
          "metadata": {
            "needs_background": "light"
          }
        }
      ]
    },
    {
      "cell_type": "code",
      "source": [
        "lasso = Lasso(alpha = 10)\n",
        "lasso.fit(train_scaled, train_target)\n",
        "print(lasso.score(train_scaled, train_target))\n",
        "print(lasso.score(test_scaled, test_target))\n",
        "#과대, 과소 적합도 아닌 균형잡인 score\n"
      ],
      "metadata": {
        "colab": {
          "base_uri": "https://localhost:8080/"
        },
        "id": "vxy2PXvbX0Wn",
        "outputId": "06c1f33e-e335-4d78-c530-1eb3ea529a86"
      },
      "execution_count": 110,
      "outputs": [
        {
          "output_type": "stream",
          "name": "stdout",
          "text": [
            "0.9888067471131867\n",
            "0.9824470598706695\n"
          ]
        }
      ]
    },
    {
      "cell_type": "markdown",
      "source": [
        "####-값이 0인 계수의 개수"
      ],
      "metadata": {
        "id": "5RNtlncwY0Um"
      }
    },
    {
      "cell_type": "code",
      "source": [
        "print(np.sum(lasso.coef_ == 0))"
      ],
      "metadata": {
        "colab": {
          "base_uri": "https://localhost:8080/"
        },
        "id": "Xs8-4gz3YUCV",
        "outputId": "de7dc798-bb49-4a71-d7df-3af5894fb880"
      },
      "execution_count": 111,
      "outputs": [
        {
          "output_type": "stream",
          "name": "stdout",
          "text": [
            "40\n"
          ]
        }
      ]
    },
    {
      "cell_type": "code",
      "source": [],
      "metadata": {
        "id": "CII2gfUAY722"
      },
      "execution_count": null,
      "outputs": []
    }
  ]
}